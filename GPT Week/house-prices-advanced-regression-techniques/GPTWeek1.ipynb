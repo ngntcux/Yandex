{
 "cells": [
  {
   "cell_type": "code",
   "execution_count": 1,
   "id": "f9f97b6e",
   "metadata": {},
   "outputs": [],
   "source": [
    "import json\n",
    "import numpy as np\n",
    "import pandas as pd\n",
    "import math\n",
    "import re"
   ]
  },
  {
   "cell_type": "markdown",
   "id": "fa8a2758",
   "metadata": {},
   "source": [
    "## Готовим данные"
   ]
  },
  {
   "cell_type": "code",
   "execution_count": 2,
   "id": "cd5b7cb9",
   "metadata": {},
   "outputs": [],
   "source": [
    "fields = [\n",
    "    l for l in open('data_description.txt', 'r').read().split('\\n')\n",
    "    if len(l.strip()) > 0\n",
    "]"
   ]
  },
  {
   "cell_type": "code",
   "execution_count": 3,
   "id": "ae7f5897",
   "metadata": {},
   "outputs": [],
   "source": [
    "columns = [f.strip().split(': ') for f in fields if not f.startswith(' ')]\n",
    "col_names = {c[0]: f\"{c[0]}: {c[1]}\" for c in columns}\n",
    "col_names['SalePrice'] = 'SalePrice'"
   ]
  },
  {
   "cell_type": "code",
   "execution_count": 4,
   "id": "dfc011f0",
   "metadata": {},
   "outputs": [],
   "source": [
    "last_key = None\n",
    "fv = {}\n",
    "\n",
    "for f in fields:\n",
    "    if not f.startswith(' '):\n",
    "        last_key = f.split(': ')[0]\n",
    "        continue\n",
    "    value_pair = f.strip().split('\\t')\n",
    "    fv[(last_key, value_pair[0])] = value_pair[1]"
   ]
  },
  {
   "cell_type": "code",
   "execution_count": 5,
   "id": "78ec06d9",
   "metadata": {},
   "outputs": [],
   "source": [
    "s = pd.read_csv('train.csv')"
   ]
  },
  {
   "cell_type": "code",
   "execution_count": 6,
   "id": "d2972446",
   "metadata": {},
   "outputs": [],
   "source": [
    "row_dict = s.iloc[0]\n",
    "\n",
    "facts = []\n",
    "for k in row_dict.keys():\n",
    "    if k not in col_names:\n",
    "        continue\n",
    "    if str(row_dict[k]) == 'nan':\n",
    "        continue\n",
    "    facts.append(col_names[k])\n",
    "    if (k, str(row_dict[k])) in fv:\n",
    "        facts.append(f'- {fv[(k, str(row_dict[k]))]}')\n",
    "    else:\n",
    "        facts.append(f'- {row_dict[k]}')\n",
    "request = '\\n'.join(facts).replace('\\n- ', ': ')\n",
    "request = re.sub('\\n[^:]+: (?:Identifies )?', '\\n', request)\n",
    "request = re.sub('\\n(\\d+)', '\\nPrice: $\\\\1', request)"
   ]
  },
  {
   "cell_type": "code",
   "execution_count": 7,
   "id": "77cbd5bc",
   "metadata": {},
   "outputs": [
    {
     "name": "stdout",
     "output_type": "stream",
     "text": [
      "MSSubClass: Identifies the type of dwelling involved in the sale.: 2-STORY 1946 & NEWER\n",
      "the general zoning classification of the sale.: Residential Low Density\n",
      "Linear feet of street connected to property: 65.0\n",
      "Lot size in square feet: 8450\n",
      "Type of road access to property: Paved\n",
      "General shape of property: Regular\n",
      "Flatness of the property: Near Flat/Level\n",
      "Type of utilities available: All public Utilities (E,G,W,& S)\n",
      "Lot configuration: Inside lot\n",
      "Slope of property: Gentle slope\n",
      "Physical locations within Ames city limits: College Creek\n",
      "Proximity to various conditions: Normal\n",
      "Proximity to various conditions (if more than one is present): Normal\n",
      "Type of dwelling: Single-family Detached\n",
      "Style of dwelling: Two story\n",
      "Rates the overall material and finish of the house: Good\n",
      "Rates the overall condition of the house: Average\n",
      "Original construction date: 2003\n",
      "Remodel date (same as construction date if no remodeling or additions): 2003\n",
      "Type of roof: Gable\n",
      "Roof material: Standard (Composite) Shingle\n",
      "Exterior covering on house: Vinyl Siding\n",
      "Exterior covering on house (if more than one material): Vinyl Siding\n",
      "Masonry veneer type: Brick Face\n",
      "Masonry veneer area in square feet: 196.0\n",
      "Evaluates the quality of the material on the exterior: Good\n",
      "Evaluates the present condition of the material on the exterior: Average/Typical\n",
      "Type of foundation: Poured Contrete\n",
      "Evaluates the height of the basement: Good (90-99 inches)\n",
      "Evaluates the general condition of the basement: Typical - slight dampness allowed\n",
      "Refers to walkout or garden level walls: No Exposure\n",
      "Rating of basement finished area: Good Living Quarters\n",
      "Type 1 finished square feet: 706\n",
      "Rating of basement finished area (if multiple types): Unfinshed\n",
      "Type 2 finished square feet: 0\n",
      "Unfinished square feet of basement area: 150\n",
      "Total square feet of basement area: 856\n",
      "Type of heating: Gas forced warm air furnace\n",
      "Heating quality and condition: Excellent\n",
      "Central air conditioning: Yes\n",
      "Electrical system: Standard Circuit Breakers & Romex\n",
      "First Floor square feet: 856\n",
      "Second floor square feet: 854\n",
      "Low quality finished square feet (all floors): 0\n",
      "Above grade (ground) living area square feet: 1710\n",
      "Basement full bathrooms: 1\n",
      "Basement half bathrooms: 0\n",
      "Full bathrooms above grade: 2\n",
      "Half baths above grade: 1\n",
      "Kitchen quality: Good\n",
      "Total rooms above grade (does not include bathrooms): 8\n",
      "Home functionality (Assume typical unless deductions are warranted): Typical Functionality\n",
      "Number of fireplaces: 0\n",
      "Garage location: Attached to home\n",
      "Year garage was built: 2003.0\n",
      "Interior finish of the garage: Rough Finished\n",
      "Size of garage in car capacity: 2\n",
      "Size of garage in square feet: 548\n",
      "Garage quality: Typical/Average\n",
      "Garage condition: Typical/Average\n",
      "Paved driveway: Paved\n",
      "Wood deck area in square feet: 0\n",
      "Open porch area in square feet: 61\n",
      "Enclosed porch area in square feet: 0\n",
      "Three season porch area in square feet: 0\n",
      "Screen porch area in square feet: 0\n",
      "Pool area in square feet: 0\n",
      "$Value of miscellaneous feature: 0\n",
      "Month Sold (MM): 2\n",
      "Year Sold (YYYY): 2008\n",
      "Type of sale: WD\n",
      "Condition of sale: Normal Sale\n",
      "Price: $208500\n"
     ]
    }
   ],
   "source": [
    "print(request)"
   ]
  },
  {
   "cell_type": "markdown",
   "id": "f9b1577b",
   "metadata": {},
   "source": [
    "## Делаем запросы в АПИ"
   ]
  },
  {
   "cell_type": "raw",
   "id": "960ab12f",
   "metadata": {},
   "source": [
    "oauth_token = \"***\""
   ]
  },
  {
   "cell_type": "raw",
   "id": "3749ee3c",
   "metadata": {},
   "source": [
    "!curl -d \"{\\\"yandexPassportOauthToken\\\":\\\"***\\\"}\" \"https://iam.api.cloud.yandex.net/iam/v1/tokens\"\n"
   ]
  },
  {
   "cell_type": "raw",
   "id": "89906c92",
   "metadata": {},
   "source": [
    "iamtoken = \"***\""
   ]
  },
  {
   "cell_type": "raw",
   "id": "a10a93bc",
   "metadata": {},
   "source": [
    "dir_id = \"***\""
   ]
  },
  {
   "cell_type": "code",
   "execution_count": null,
   "id": "cab54cfe",
   "metadata": {},
   "outputs": [],
   "source": [
    "import requests"
   ]
  },
  {
   "cell_type": "code",
   "execution_count": null,
   "id": "ea481c02",
   "metadata": {},
   "outputs": [],
   "source": [
    "result = requests.post(\n",
    "    url='https://llm.api.cloud.yandex.net/llm/v1alpha/instruct',\n",
    "    headers={'Authorization': f'Bearer {iamtoken}', 'x-folder-id': dir_id},\n",
    "    json={\n",
    "      \"model\": \"general\",\n",
    "      \"instruction_text\": \"Ниже перечислены характеристики недвижимости.\",\n",
    "      \"request_text\": f\"{request}\\n\\nНа основании этой информации о недвижимости ниже напиши продающий текст на русском. Текст не должен содержать лжи и полностью соответствовать данным из характеристик.\",\n",
    "      \"generation_options\": {\n",
    "        \"max_tokens\": 1500,  \n",
    "        \"temperature\": 0.5\n",
    "      }\n",
    "    }\n",
    ")"
   ]
  },
  {
   "cell_type": "code",
   "execution_count": null,
   "id": "168c0ec3",
   "metadata": {},
   "outputs": [],
   "source": [
    "print(request)"
   ]
  },
  {
   "cell_type": "code",
   "execution_count": null,
   "id": "ea18ca2a",
   "metadata": {},
   "outputs": [],
   "source": [
    "print(result.json()['result']['alternatives'][0]['text'])"
   ]
  },
  {
   "cell_type": "markdown",
   "id": "9b2f0a38",
   "metadata": {},
   "source": [
    "## Fewshot"
   ]
  },
  {
   "cell_type": "code",
   "execution_count": null,
   "id": "16bccd6f",
   "metadata": {},
   "outputs": [],
   "source": [
    "import pickle\n",
    "train_dataset = pickle.load(open('fewshot.pkl', 'rb'))"
   ]
  },
  {
   "cell_type": "code",
   "execution_count": null,
   "id": "da8b51e4",
   "metadata": {},
   "outputs": [],
   "source": [
    "print(\"\\n------\\n\\n\".join(v['request'] + \"\\n-----\\n\" + v['response'] for v in train_dataset))"
   ]
  },
  {
   "cell_type": "markdown",
   "id": "f5bdee5c",
   "metadata": {},
   "source": [
    "## Finetune"
   ]
  },
  {
   "cell_type": "code",
   "execution_count": null,
   "id": "abaf8b67",
   "metadata": {},
   "outputs": [],
   "source": [
    "df = pd.read_json('../squad.json', lines=True)"
   ]
  },
  {
   "cell_type": "code",
   "execution_count": null,
   "id": "e2ac9ece",
   "metadata": {},
   "outputs": [],
   "source": [
    "df"
   ]
  },
  {
   "cell_type": "code",
   "execution_count": null,
   "id": "c128da44",
   "metadata": {},
   "outputs": [],
   "source": [
    "df['request'] = df.context + '\\n\\nQuestion: ' + df.question"
   ]
  },
  {
   "cell_type": "code",
   "execution_count": null,
   "id": "52d2ddbd",
   "metadata": {},
   "outputs": [],
   "source": [
    "df['response'] = df.ans_texts.str[0]"
   ]
  },
  {
   "cell_type": "code",
   "execution_count": null,
   "id": "261704c2",
   "metadata": {},
   "outputs": [],
   "source": [
    "df = df.sample(df.shape[0])"
   ]
  },
  {
   "cell_type": "code",
   "execution_count": null,
   "id": "cf802175",
   "metadata": {},
   "outputs": [],
   "source": [
    "data = [{'request': t.request, 'response': t.response} for t in df[['request', 'response']].itertuples()]"
   ]
  },
  {
   "cell_type": "code",
   "execution_count": null,
   "id": "925f6ae2",
   "metadata": {},
   "outputs": [],
   "source": [
    "train = data[:400]"
   ]
  },
  {
   "cell_type": "raw",
   "id": "71d9abcc",
   "metadata": {},
   "source": [
    "\n",
    "json.dump(train, open('train.json', 'w'))"
   ]
  },
  {
   "cell_type": "code",
   "execution_count": null,
   "id": "54224712",
   "metadata": {},
   "outputs": [],
   "source": [
    "train = json.load(open('train.json', 'r'))"
   ]
  },
  {
   "cell_type": "code",
   "execution_count": null,
   "id": "504ba079",
   "metadata": {},
   "outputs": [],
   "source": [
    "sample = df[~df.request.isin([t['request'] for t in train])].sample().iloc[0]\n",
    "print(sample['request'])\n",
    "print('-----')\n",
    "print(sample['response'])"
   ]
  },
  {
   "cell_type": "code",
   "execution_count": null,
   "id": "c37a2339",
   "metadata": {},
   "outputs": [],
   "source": []
  }
 ],
 "metadata": {
  "kernelspec": {
   "display_name": "Python 3 (ipykernel)",
   "language": "python",
   "name": "python3"
  },
  "language_info": {
   "codemirror_mode": {
    "name": "ipython",
    "version": 3
   },
   "file_extension": ".py",
   "mimetype": "text/x-python",
   "name": "python",
   "nbconvert_exporter": "python",
   "pygments_lexer": "ipython3",
   "version": "3.10.12"
  }
 },
 "nbformat": 4,
 "nbformat_minor": 5
}
