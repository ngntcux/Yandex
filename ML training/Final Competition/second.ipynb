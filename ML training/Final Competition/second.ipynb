{
 "cells": [
  {
   "cell_type": "code",
   "execution_count": 1,
   "id": "4c311a4d-761e-4a8d-989b-e7daf1ba0ca0",
   "metadata": {},
   "outputs": [],
   "source": [
    "import os\n",
    "import json\n",
    "import math\n",
    "\n",
    "import numpy as np\n",
    "\n",
    "import optuna\n",
    "\n",
    "import matplotlib.pyplot as plt\n",
    "import seaborn as sns\n",
    "\n",
    "from sklearn.linear_model import Ridge, LinearRegression, ElasticNet\n",
    "from sklearn.ensemble import RandomForestRegressor, StackingRegressor\n",
    "from sklearn.metrics import mean_squared_error\n",
    "from sklearn.model_selection import train_test_split, cross_val_score, KFold\n",
    "from sklearn.preprocessing import StandardScaler\n",
    "from sklearn.feature_selection import RFE, SelectFromModel\n",
    "from sklearn.neural_network import MLPRegressor\n",
    "from sklearn.svm import SVR\n",
    "\n",
    "from xgboost import XGBRegressor"
   ]
  },
  {
   "cell_type": "code",
   "execution_count": 2,
   "id": "0ebafb08-9e9b-4121-8eb7-fe9560aaf8fa",
   "metadata": {},
   "outputs": [],
   "source": [
    "random_state = 42"
   ]
  },
  {
   "cell_type": "code",
   "execution_count": 3,
   "id": "e8150039-0fa5-47ca-8dad-26a51b054f7e",
   "metadata": {},
   "outputs": [],
   "source": [
    "assert os.path.exists('hw_final_open_data.npy'), 'Please, download `hw_final_open_data.npy` and place it in the working directory'\n",
    "assert os.path.exists('hw_final_open_target.npy'), 'Please, download `hw_final_open_target.npy` and place it in the working directory'\n",
    "data = np.load('hw_final_open_data.npy', allow_pickle=False)\n",
    "target = np.load('hw_final_open_target.npy', allow_pickle=False)"
   ]
  },
  {
   "cell_type": "code",
   "execution_count": 4,
   "id": "fdbb0eb4-ebfa-4c53-a1c3-f40c996f600b",
   "metadata": {},
   "outputs": [],
   "source": [
    "def plot_feature_distributions(data, target):\n",
    "    num_features = data.shape[1]\n",
    "    num_rows = int(np.ceil((num_features + 1) / 2))\n",
    "    num_cols = 2\n",
    "    fig, axes = plt.subplots(num_rows, num_cols, figsize=(10, 3 * num_rows))\n",
    "    for i in range(num_features):\n",
    "        row_idx = i // num_cols\n",
    "        col_idx = i % num_cols\n",
    "        sns.kdeplot(data[:, i], fill=True, ax=axes[row_idx, col_idx])\n",
    "        axes[row_idx, col_idx].set_title(f'Feature {i}')\n",
    "        axes[row_idx, col_idx].set_xlabel('Value')\n",
    "        axes[row_idx, col_idx].set_ylabel('Density')\n",
    "    row_idx = num_features // num_cols\n",
    "    col_idx = num_features % num_cols\n",
    "    sns.kdeplot(target, fill=True, ax=axes[row_idx, col_idx])\n",
    "    axes[row_idx, col_idx].set_title('Target')\n",
    "    axes[row_idx, col_idx].set_xlabel('Value')\n",
    "    axes[row_idx, col_idx].set_ylabel('Density')\n",
    "    for i in range(num_features + 1, num_rows * num_cols):\n",
    "        fig.delaxes(axes.flatten()[i])\n",
    "    plt.tight_layout()\n",
    "    plt.show()\n",
    "\n",
    "def plot_correlation_matrix(data, target):\n",
    "    combined_data = np.column_stack((data, target))\n",
    "    correlation_matrix = np.corrcoef(combined_data, rowvar=False)\n",
    "    plt.figure(figsize=(13, 5))\n",
    "    sns.heatmap(correlation_matrix, annot=True, cmap='coolwarm', fmt='.6f', \n",
    "                xticklabels=[f'Feature {i}' for i in range(data.shape[1])] + ['Target'],\n",
    "                yticklabels=[f'Feature {i}' for i in range(data.shape[1])] + ['Target'])\n",
    "    plt.title('Correlation Matrix')\n",
    "    plt.show()"
   ]
  },
  {
   "cell_type": "code",
   "execution_count": 5,
   "id": "478d24be-9ede-43b5-bb56-9b96af59f767",
   "metadata": {},
   "outputs": [],
   "source": [
    "def my_transformation(data: np.ndarray):\n",
    "    data = (data - np.array([-5.62410914e-01,  2.58281096e-01, -5.68630481e-01, -6.69724427e-04,\n",
    "       -5.00564651e-01,  1.51947504e+00, -5.75437567e-01])) * np.array([5.16195921e+02, 1.94217464e+00, 3.64271476e+08, 3.88311869e+00,\n",
    "       6.18311049e+01, 8.10959916e-01, 2.74664694e+08])\n",
    "    \n",
    "    # data = np.c_[data, np.exp(data[:, 5] + data[:, 0])]\n",
    "    return data"
   ]
  },
  {
   "cell_type": "code",
   "execution_count": 6,
   "id": "c9aaaad8-830d-438b-9b76-f03047c47e91",
   "metadata": {},
   "outputs": [],
   "source": [
    "data = my_transformation(data)"
   ]
  },
  {
   "cell_type": "code",
   "execution_count": 7,
   "id": "9d83a7a9-9b08-4395-b570-1e73c3900f6d",
   "metadata": {},
   "outputs": [
    {
     "name": "stdout",
     "output_type": "stream",
     "text": [
      "Feature importances:\t\t 0: 0.221282,  1: 0.220723,  2: 0.000235,  3: 0.152597,  4: 0.177167,  5: 0.227647,  6: 0.000348\n",
      "Sorted feature importances:\t 5: 0.227647,  0: 0.221282,  1: 0.220723,  4: 0.177167,  3: 0.152597,  6: 0.000348,  2: 0.000235\n",
      "Selected features:\t\t 0, 1, 3, 4, 5, 6\n"
     ]
    }
   ],
   "source": [
    "# feature selection\n",
    "feature_importance_model = RandomForestRegressor(random_state=random_state)\n",
    "\n",
    "feature_importance_model.fit(data, target)\n",
    "feature_importances = feature_importance_model.feature_importances_\n",
    "print('Feature importances:\\t\\t', ',  '.join([f'{index}: {importance:.6f}' for index, importance in list(enumerate(feature_importances))]))\n",
    "sorted_features = sorted(list(enumerate(feature_importances)), key=lambda x: x[1], reverse=True)\n",
    "print('Sorted feature importances:\\t', ',  '.join([f'{index}: {importance:.6f}' for index, importance in sorted_features]))\n",
    "sfm = SelectFromModel(feature_importance_model, threshold=0.0003)\n",
    "data = sfm.fit_transform(data, target)\n",
    "selected_features = np.where(sfm.get_support())[0]\n",
    "print(\"Selected features:\\t\\t\", ', '.join(map(str, selected_features)))"
   ]
  },
  {
   "cell_type": "code",
   "execution_count": 8,
   "id": "49d8311d-6b31-4879-8fb4-7d788947d788",
   "metadata": {},
   "outputs": [],
   "source": [
    "# model tuning\n",
    "X_train, X_val, y_train, y_val = train_test_split(data, target, test_size=0.25, random_state=random_state)\n",
    "def objective(trial):\n",
    "    alpha = trial.suggest_float('alpha', 0.01, 2.0, log=True)\n",
    "    l1_ratio = trial.suggest_float('l1_ratio', 0.0, 1.0)\n",
    "    \n",
    "    model = ElasticNet(alpha=alpha, l1_ratio=l1_ratio, max_iter=5000, random_state=random_state)\n",
    "    model.fit(X_train, y_train)\n",
    "    y_pred = model.predict(X_val)\n",
    "    mse = mean_squared_error(y_val, y_pred)\n",
    "    return mse\n",
    "    \n",
    "optuna.logging.set_verbosity(optuna.logging.WARNING)\n",
    "study = optuna.create_study(direction='minimize')\n",
    "study.optimize(objective, n_trials=200)"
   ]
  },
  {
   "cell_type": "code",
   "execution_count": 9,
   "id": "62c2aaeb-8314-4852-8824-ed333281000f",
   "metadata": {},
   "outputs": [],
   "source": [
    "# model\n",
    "model = ElasticNet(**study.best_params, max_iter=5000, random_state=random_state)"
   ]
  },
  {
   "cell_type": "code",
   "execution_count": 10,
   "id": "40f5b260-477f-4626-87c8-320f95ac5365",
   "metadata": {},
   "outputs": [
    {
     "name": "stdout",
     "output_type": "stream",
     "text": [
      "Mean MSE: 0.0906\n",
      "Points: 1.3641\n",
      "STD MSE: 0.0018\n",
      "Baseline MSE: 0.0905\n",
      "Baseline points: 1.3642\n"
     ]
    }
   ],
   "source": [
    "# cross validation\n",
    "k_fold = KFold(n_splits=4, shuffle=True, random_state=random_state)\n",
    "cv_scores = -cross_val_score(model, data, target, cv=k_fold, scoring='neg_mean_squared_error', n_jobs=-1)\n",
    "mse = cv_scores.mean()\n",
    "print(f\"Mean MSE: {mse:.4f}\")\n",
    "print(f\"Points: {(1 - mse) * 1.5:.4f}\")\n",
    "print(f\"STD MSE: {cv_scores.std():.4f}\")\n",
    "baseline_mse = 0.0905\n",
    "print(f'Baseline MSE: {baseline_mse}')\n",
    "print(f'Baseline points: {(1 - baseline_mse) * 1.5:.4f}')"
   ]
  },
  {
   "cell_type": "code",
   "execution_count": 11,
   "id": "562ecd7b-f30c-43cc-9edd-8451c76eec46",
   "metadata": {},
   "outputs": [
    {
     "data": {
      "text/html": [
       "<style>#sk-container-id-1 {color: black;background-color: white;}#sk-container-id-1 pre{padding: 0;}#sk-container-id-1 div.sk-toggleable {background-color: white;}#sk-container-id-1 label.sk-toggleable__label {cursor: pointer;display: block;width: 100%;margin-bottom: 0;padding: 0.3em;box-sizing: border-box;text-align: center;}#sk-container-id-1 label.sk-toggleable__label-arrow:before {content: \"▸\";float: left;margin-right: 0.25em;color: #696969;}#sk-container-id-1 label.sk-toggleable__label-arrow:hover:before {color: black;}#sk-container-id-1 div.sk-estimator:hover label.sk-toggleable__label-arrow:before {color: black;}#sk-container-id-1 div.sk-toggleable__content {max-height: 0;max-width: 0;overflow: hidden;text-align: left;background-color: #f0f8ff;}#sk-container-id-1 div.sk-toggleable__content pre {margin: 0.2em;color: black;border-radius: 0.25em;background-color: #f0f8ff;}#sk-container-id-1 input.sk-toggleable__control:checked~div.sk-toggleable__content {max-height: 200px;max-width: 100%;overflow: auto;}#sk-container-id-1 input.sk-toggleable__control:checked~label.sk-toggleable__label-arrow:before {content: \"▾\";}#sk-container-id-1 div.sk-estimator input.sk-toggleable__control:checked~label.sk-toggleable__label {background-color: #d4ebff;}#sk-container-id-1 div.sk-label input.sk-toggleable__control:checked~label.sk-toggleable__label {background-color: #d4ebff;}#sk-container-id-1 input.sk-hidden--visually {border: 0;clip: rect(1px 1px 1px 1px);clip: rect(1px, 1px, 1px, 1px);height: 1px;margin: -1px;overflow: hidden;padding: 0;position: absolute;width: 1px;}#sk-container-id-1 div.sk-estimator {font-family: monospace;background-color: #f0f8ff;border: 1px dotted black;border-radius: 0.25em;box-sizing: border-box;margin-bottom: 0.5em;}#sk-container-id-1 div.sk-estimator:hover {background-color: #d4ebff;}#sk-container-id-1 div.sk-parallel-item::after {content: \"\";width: 100%;border-bottom: 1px solid gray;flex-grow: 1;}#sk-container-id-1 div.sk-label:hover label.sk-toggleable__label {background-color: #d4ebff;}#sk-container-id-1 div.sk-serial::before {content: \"\";position: absolute;border-left: 1px solid gray;box-sizing: border-box;top: 0;bottom: 0;left: 50%;z-index: 0;}#sk-container-id-1 div.sk-serial {display: flex;flex-direction: column;align-items: center;background-color: white;padding-right: 0.2em;padding-left: 0.2em;position: relative;}#sk-container-id-1 div.sk-item {position: relative;z-index: 1;}#sk-container-id-1 div.sk-parallel {display: flex;align-items: stretch;justify-content: center;background-color: white;position: relative;}#sk-container-id-1 div.sk-item::before, #sk-container-id-1 div.sk-parallel-item::before {content: \"\";position: absolute;border-left: 1px solid gray;box-sizing: border-box;top: 0;bottom: 0;left: 50%;z-index: -1;}#sk-container-id-1 div.sk-parallel-item {display: flex;flex-direction: column;z-index: 1;position: relative;background-color: white;}#sk-container-id-1 div.sk-parallel-item:first-child::after {align-self: flex-end;width: 50%;}#sk-container-id-1 div.sk-parallel-item:last-child::after {align-self: flex-start;width: 50%;}#sk-container-id-1 div.sk-parallel-item:only-child::after {width: 0;}#sk-container-id-1 div.sk-dashed-wrapped {border: 1px dashed gray;margin: 0 0.4em 0.5em 0.4em;box-sizing: border-box;padding-bottom: 0.4em;background-color: white;}#sk-container-id-1 div.sk-label label {font-family: monospace;font-weight: bold;display: inline-block;line-height: 1.2em;}#sk-container-id-1 div.sk-label-container {text-align: center;}#sk-container-id-1 div.sk-container {/* jupyter's `normalize.less` sets `[hidden] { display: none; }` but bootstrap.min.css set `[hidden] { display: none !important; }` so we also need the `!important` here to be able to override the default hidden behavior on the sphinx rendered scikit-learn.org. See: https://github.com/scikit-learn/scikit-learn/issues/21755 */display: inline-block !important;position: relative;}#sk-container-id-1 div.sk-text-repr-fallback {display: none;}</style><div id=\"sk-container-id-1\" class=\"sk-top-container\"><div class=\"sk-text-repr-fallback\"><pre>ElasticNet(alpha=0.010007377571100706, l1_ratio=0.5718048100298648,\n",
       "           max_iter=5000, random_state=42)</pre><b>In a Jupyter environment, please rerun this cell to show the HTML representation or trust the notebook. <br />On GitHub, the HTML representation is unable to render, please try loading this page with nbviewer.org.</b></div><div class=\"sk-container\" hidden><div class=\"sk-item\"><div class=\"sk-estimator sk-toggleable\"><input class=\"sk-toggleable__control sk-hidden--visually\" id=\"sk-estimator-id-1\" type=\"checkbox\" checked><label for=\"sk-estimator-id-1\" class=\"sk-toggleable__label sk-toggleable__label-arrow\">ElasticNet</label><div class=\"sk-toggleable__content\"><pre>ElasticNet(alpha=0.010007377571100706, l1_ratio=0.5718048100298648,\n",
       "           max_iter=5000, random_state=42)</pre></div></div></div></div></div>"
      ],
      "text/plain": [
       "ElasticNet(alpha=0.010007377571100706, l1_ratio=0.5718048100298648,\n",
       "           max_iter=5000, random_state=42)"
      ]
     },
     "execution_count": 11,
     "metadata": {},
     "output_type": "execute_result"
    }
   ],
   "source": [
    "# model fitting\n",
    "model.fit(data, target)"
   ]
  },
  {
   "cell_type": "code",
   "execution_count": 12,
   "id": "f2a0cec9-8183-44d3-b2a8-f6bbda221c07",
   "metadata": {},
   "outputs": [],
   "source": [
    "original_predictions = model.predict(data)\n",
    "rounded_predictions = data.dot(np.round(model.coef_.squeeze(), 4)) + np.round(model.intercept_.squeeze(), 4)\n",
    "\n",
    "assert np.allclose(original_predictions, rounded_predictions, atol=1e-3)"
   ]
  },
  {
   "cell_type": "code",
   "execution_count": 13,
   "id": "989b2222-c0aa-414c-acfb-889edae04059",
   "metadata": {},
   "outputs": [
    {
     "name": "stdout",
     "output_type": "stream",
     "text": [
      "w_submission = [0.0, 0.7972, 0.5483, 0.0723, 0.7532, 0.0]\n",
      "b_submission = 3.7086\n"
     ]
    }
   ],
   "source": [
    "w_list = list(np.round(model.coef_.squeeze(), 4))\n",
    "print(f'w_submission = {list(np.round(model.coef_.squeeze(), 4))}\\nb_submission = {np.round(model.intercept_.squeeze(), 4)}')"
   ]
  },
  {
   "cell_type": "code",
   "execution_count": 14,
   "id": "6783d1d8-2345-4876-bff5-c75969b246b5",
   "metadata": {},
   "outputs": [],
   "source": [
    "assert len(w_list) + 1 <= 15"
   ]
  }
 ],
 "metadata": {
  "kernelspec": {
   "display_name": "Python 3 (ipykernel)",
   "language": "python",
   "name": "python3"
  },
  "language_info": {
   "codemirror_mode": {
    "name": "ipython",
    "version": 3
   },
   "file_extension": ".py",
   "mimetype": "text/x-python",
   "name": "python",
   "nbconvert_exporter": "python",
   "pygments_lexer": "ipython3",
   "version": "3.10.12"
  }
 },
 "nbformat": 4,
 "nbformat_minor": 5
}
