{
 "cells": [
  {
   "cell_type": "code",
   "execution_count": 1,
   "id": "1129836f-0781-4b89-9b86-51450ceeb61b",
   "metadata": {},
   "outputs": [
    {
     "name": "stdout",
     "output_type": "stream",
     "text": [
      "Важности признаков:\n",
      "Признак 1: 0.295805685287444\n",
      "Признак 2: 0.34975172048700437\n",
      "Признак 3: 0.3377514257983121\n",
      "Признак 4: 0.005470380176448693\n",
      "Признак 5: 0.011220788250790883\n",
      "\n",
      "Точность модели: 0.85\n"
     ]
    }
   ],
   "source": [
    "import numpy as np\n",
    "import pandas as pd\n",
    "from sklearn.model_selection import train_test_split\n",
    "from sklearn.ensemble import GradientBoostingClassifier\n",
    "from sklearn.metrics import accuracy_score\n",
    "\n",
    "# Создаем синтетические данные для примера\n",
    "np.random.seed(42)\n",
    "X = np.random.rand(100, 5)  # 100 наблюдений, 5 признаков\n",
    "y = (X[:, 0] + X[:, 1] + X[:, 2] > 1.5).astype(int)  # Пример бинарной классификации\n",
    "\n",
    "# Разделяем данные на тренировочный и тестовый наборы\n",
    "X_train, X_test, y_train, y_test = train_test_split(X, y, test_size=0.2, random_state=42)\n",
    "\n",
    "# Создаем модель GradientBoostingClassifier\n",
    "model = GradientBoostingClassifier(n_estimators=10, random_state=42)\n",
    "\n",
    "# Обучаем модель на тренировочных данных\n",
    "model.fit(X_train, y_train)\n",
    "\n",
    "# Получаем важности признаков\n",
    "importances = model.feature_importances_\n",
    "\n",
    "# Выводим важности признаков\n",
    "print(\"Важности признаков:\")\n",
    "for feature, importance in enumerate(importances):\n",
    "    print(f\"Признак {feature + 1}: {importance}\")\n",
    "\n",
    "# Предсказываем классы на тестовых данных\n",
    "y_pred = model.predict(X_test)\n",
    "\n",
    "# Оцениваем точность модели\n",
    "accuracy = accuracy_score(y_test, y_pred)\n",
    "print(f\"\\nТочность модели: {accuracy}\")\n"
   ]
  }
 ],
 "metadata": {
  "kernelspec": {
   "display_name": "Python 3 (ipykernel)",
   "language": "python",
   "name": "python3"
  },
  "language_info": {
   "codemirror_mode": {
    "name": "ipython",
    "version": 3
   },
   "file_extension": ".py",
   "mimetype": "text/x-python",
   "name": "python",
   "nbconvert_exporter": "python",
   "pygments_lexer": "ipython3",
   "version": "3.10.12"
  }
 },
 "nbformat": 4,
 "nbformat_minor": 5
}
